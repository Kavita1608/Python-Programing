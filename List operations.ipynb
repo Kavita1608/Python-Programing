{
 "cells": [
  {
   "cell_type": "code",
   "execution_count": 1,
   "id": "9077ebb7",
   "metadata": {},
   "outputs": [
    {
     "name": "stdout",
     "output_type": "stream",
     "text": [
      "[1, 2, 3, 4, 5]\n"
     ]
    }
   ],
   "source": [
    "a=[1,2,3,4,5]                                                    #create a list using squere bracket []              #LIST\n",
    "print(a)"
   ]
  },
  {
   "cell_type": "code",
   "execution_count": 1,
   "id": "c50f32ed",
   "metadata": {},
   "outputs": [
    {
     "name": "stdout",
     "output_type": "stream",
     "text": [
      "['Nia', 'Ria', 'Piya', 'Jiya']\n"
     ]
    }
   ],
   "source": [
    "a=[\"Nia\",\"Ria\",\"Piya\",\"Jiya\"]\n",
    "print(a)"
   ]
  },
  {
   "cell_type": "code",
   "execution_count": 2,
   "id": "42333b63",
   "metadata": {},
   "outputs": [
    {
     "data": {
      "text/plain": [
       "'Ria'"
      ]
     },
     "execution_count": 2,
     "metadata": {},
     "output_type": "execute_result"
    }
   ],
   "source": [
    " a[1]                                                               # index the position of perticular value a[1], a[2] etc\n"
   ]
  },
  {
   "cell_type": "code",
   "execution_count": 3,
   "id": "9b5e3be6",
   "metadata": {},
   "outputs": [
    {
     "name": "stdout",
     "output_type": "stream",
     "text": [
      "neha\n",
      "['Nia', 'neha', 'Piya', 'Jiya']\n"
     ]
    }
   ],
   "source": [
    "                                                                # can replace the value\n",
    "a[1]=\"neha\"\n",
    "print(a[1])\n",
    "print(a)"
   ]
  },
  {
   "cell_type": "code",
   "execution_count": 4,
   "id": "a1302197",
   "metadata": {},
   "outputs": [
    {
     "name": "stdout",
     "output_type": "stream",
     "text": [
      "[12, 'tia', 1.2, False]\n"
     ]
    }
   ],
   "source": [
    "b=[12,\"tia\",1.2,False]                                       #can create with all type of value\n",
    "print(b)"
   ]
  },
  {
   "cell_type": "code",
   "execution_count": 5,
   "id": "811a914e",
   "metadata": {},
   "outputs": [
    {
     "name": "stdout",
     "output_type": "stream",
     "text": [
      "['Mia', 'Riya', 45]\n",
      "['Tia', 'Riya', 26]\n",
      "[32, 26, 45, 'Riya', 'Mia', 'Tia']\n"
     ]
    }
   ],
   "source": [
    "C=[\"Tia\",\"Mia\",\"Riya\",45,26,32]                             #SLICING MATHODS\n",
    "print(C[1:4])\n",
    "print(C[0:5:2])\n",
    "print(C[::-1])"
   ]
  },
  {
   "cell_type": "code",
   "execution_count": 13,
   "id": "434a6964",
   "metadata": {},
   "outputs": [
    {
     "name": "stdout",
     "output_type": "stream",
     "text": [
      "[1, 2.3, 3, 6, 9, 34, 56]\n"
     ]
    }
   ],
   "source": [
    "l1=[1,6,3,9,56,34,2.3]                                       #advance function (l1.sort)\n",
    "l1.sort()\n",
    "print(l1)"
   ]
  },
  {
   "cell_type": "code",
   "execution_count": 14,
   "id": "2e047376",
   "metadata": {},
   "outputs": [
    {
     "name": "stdout",
     "output_type": "stream",
     "text": [
      "[56, 34, 9, 6, 3, 2.3, 1]\n"
     ]
    }
   ],
   "source": [
    "l1.reverse()                                                #reverse list (l1.reverse)\n",
    "print(l1)"
   ]
  },
  {
   "cell_type": "code",
   "execution_count": 15,
   "id": "44a4efea",
   "metadata": {},
   "outputs": [
    {
     "name": "stdout",
     "output_type": "stream",
     "text": [
      "[56, 34, 9, 6, 3, 2.3, 1, 88]\n"
     ]
    }
   ],
   "source": [
    "l1.append(88)                                              #to add extra value in list(l1.append)\n",
    "print(l1)"
   ]
  },
  {
   "cell_type": "code",
   "execution_count": 16,
   "id": "737be298",
   "metadata": {},
   "outputs": [
    {
     "name": "stdout",
     "output_type": "stream",
     "text": [
      "[56, 34, 9, 45, 6, 3, 2.3, 1, 88]\n"
     ]
    }
   ],
   "source": [
    "l1.insert(3,45)                                           #to add value in perticular index i:e 0,1,2,3 (l1.insert)\n",
    "print(l1)"
   ]
  },
  {
   "cell_type": "code",
   "execution_count": 17,
   "id": "2c29c877",
   "metadata": {},
   "outputs": [
    {
     "name": "stdout",
     "output_type": "stream",
     "text": [
      "[56, 34, 9, 6, 3, 2.3, 1, 88]\n"
     ]
    }
   ],
   "source": [
    "l1.pop(3)                                                #to remove value from perticular index(l1.pop)\n",
    "print(l1)"
   ]
  },
  {
   "cell_type": "code",
   "execution_count": 18,
   "id": "b1f70996",
   "metadata": {},
   "outputs": [
    {
     "name": "stdout",
     "output_type": "stream",
     "text": [
      "[56, 34, 9, 6, 3, 2.3, 1]\n"
     ]
    }
   ],
   "source": [
    "l1.remove(88)                                             #to remove value (l1.remove)\n",
    "print(l1)"
   ]
  },
  {
   "cell_type": "code",
   "execution_count": 19,
   "id": "2fb323ce",
   "metadata": {},
   "outputs": [],
   "source": [
    "#for more mathods please search on google i.e python list mathods"
   ]
  },
  {
   "cell_type": "code",
   "execution_count": null,
   "id": "d4061d24",
   "metadata": {},
   "outputs": [],
   "source": []
  }
 ],
 "metadata": {
  "kernelspec": {
   "display_name": "Python 3 (ipykernel)",
   "language": "python",
   "name": "python3"
  },
  "language_info": {
   "codemirror_mode": {
    "name": "ipython",
    "version": 3
   },
   "file_extension": ".py",
   "mimetype": "text/x-python",
   "name": "python",
   "nbconvert_exporter": "python",
   "pygments_lexer": "ipython3",
   "version": "3.9.13"
  }
 },
 "nbformat": 4,
 "nbformat_minor": 5
}
